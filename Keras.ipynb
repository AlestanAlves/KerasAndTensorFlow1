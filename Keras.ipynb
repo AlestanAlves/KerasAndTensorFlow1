{
 "cells": [
  {
   "cell_type": "code",
   "execution_count": 2,
   "metadata": {},
   "outputs": [],
   "source": [
    "from keras.layers import Dense\n",
    "import numpy as np\n",
    "from keras.models import Sequential"
   ]
  },
  {
   "cell_type": "code",
   "execution_count": null,
   "metadata": {},
   "outputs": [],
   "source": [
    "x = np.array([[0.1], [0.2], [0.3]])\n",
    "y = np.array([[0.2], [0.4], [0.6]])\n",
    "model = Sequential() #model 1 neuronio de entrada 3 de saida\n",
    "model.add(Dense(3, input_dim=1)) #criou o modelo do tipo percepto\n",
    "model.add(Dense(1))\n",
    "model.compile(optimizer='sgd', loss='mse', metrics=['accuracy'])\n",
    "model.fit(x, y, epochs=2000)\n",
    "\n",
    "while True:\n",
    "    i = input ('Digite um número: ')\n",
    "    t = float(i)\n",
    "    t = np.asmatrix(t)\n",
    "    result = model.predict(t)\n",
    "    print(i, 'previsto =>', result[0])"
   ]
  }
 ],
 "metadata": {
  "kernelspec": {
   "display_name": "Python 3",
   "language": "python",
   "name": "python3"
  },
  "language_info": {
   "codemirror_mode": {
    "name": "ipython",
    "version": 3
   },
   "file_extension": ".py",
   "mimetype": "text/x-python",
   "name": "python",
   "nbconvert_exporter": "python",
   "pygments_lexer": "ipython3",
   "version": "3.6.8"
  }
 },
 "nbformat": 4,
 "nbformat_minor": 2
}
